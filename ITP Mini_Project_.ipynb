{
 "cells": [
  {
   "cell_type": "markdown",
   "id": "dbd83e49",
   "metadata": {},
   "source": [
    "# Mini Project - Courier Management System"
   ]
  },
  {
   "cell_type": "markdown",
   "id": "1ef6fe09",
   "metadata": {},
   "source": [
    "# Q1. Create a Dictionary of lists to store the information of shipments given in the table\n"
   ]
  },
  {
   "cell_type": "code",
   "execution_count": 53,
   "id": "6c0d6b5d",
   "metadata": {},
   "outputs": [],
   "source": [
    "dict1={\n",
    "      101:[1,3,\"14-03-2020\",\"25-03-2020\",\"Area1\",\"Area6\",\"Delivered\",198],\n",
    "      102:[4,1,\"18-06-2020\",\"09-07-2020\",\"Area2\",\"Area4\",\"Delivered\",275],\n",
    "      103:[2,3,\"01-12-2020\",\"Null\",\"Area5\",\"Area1\",\"In-Transit\",200],\n",
    "      104:[1,5,\"23-06-2020\",\"25-06-2020\",\"Area1\",\"Area4\",\"Delivered\",314],\n",
    "      105:[3,4,\"29-08-2020\",\"10-09-2020\",\"Area5\",\"Area3\",\"Delivered\",275],\n",
    "      106:[5,2,\"28-06-2020\",\"Null\",\"Area3\",\"Area1\",\"In-Transit\",270]\n",
    "      }"
   ]
  },
  {
   "cell_type": "code",
   "execution_count": 54,
   "id": "3cfd6138",
   "metadata": {},
   "outputs": [
    {
     "data": {
      "text/plain": [
       "{101: [1, 3, '14-03-2020', '25-03-2020', 'Area1', 'Area6', 'Delivered', 198],\n",
       " 102: [4, 1, '18-06-2020', '09-07-2020', 'Area2', 'Area4', 'Delivered', 275],\n",
       " 103: [2, 3, '01-12-2020', 'Null', 'Area5', 'Area1', 'In-Transit', 200],\n",
       " 104: [1, 5, '23-06-2020', '25-06-2020', 'Area1', 'Area4', 'Delivered', 314],\n",
       " 105: [3, 4, '29-08-2020', '10-09-2020', 'Area5', 'Area3', 'Delivered', 275],\n",
       " 106: [5, 2, '28-06-2020', 'Null', 'Area3', 'Area1', 'In-Transit', 270]}"
      ]
     },
     "execution_count": 54,
     "metadata": {},
     "output_type": "execute_result"
    }
   ],
   "source": [
    "dict1"
   ]
  },
  {
   "cell_type": "markdown",
   "id": "3542d34e",
   "metadata": {},
   "source": [
    "\n",
    "# Q2. Create a Dictionary of to store the information of clients given in the table.\n",
    "\n"
   ]
  },
  {
   "cell_type": "code",
   "execution_count": 55,
   "id": "cf979543",
   "metadata": {},
   "outputs": [],
   "source": [
    "dict2={\n",
    "       1:\"Phillip\",\n",
    "       2:\"Omega III\",\n",
    "       3:\"Ramya\",\n",
    "       4:\"Romesh\",\n",
    "       5:\"John\"\n",
    "      }"
   ]
  },
  {
   "cell_type": "code",
   "execution_count": 56,
   "id": "79b36a42",
   "metadata": {},
   "outputs": [
    {
     "data": {
      "text/plain": [
       "{1: 'Phillip', 2: 'Omega III', 3: 'Ramya', 4: 'Romesh', 5: 'John'}"
      ]
     },
     "execution_count": 56,
     "metadata": {},
     "output_type": "execute_result"
    }
   ],
   "source": [
    "dict2"
   ]
  },
  {
   "cell_type": "code",
   "execution_count": null,
   "id": "b5dce649",
   "metadata": {},
   "outputs": [],
   "source": [
    "# list comprehension and dictionary comprehension"
   ]
  },
  {
   "cell_type": "code",
   "execution_count": 57,
   "id": "5eb3486d",
   "metadata": {},
   "outputs": [
    {
     "data": {
      "text/plain": [
       "dict_keys([101, 102, 103, 104, 105, 106])"
      ]
     },
     "execution_count": 57,
     "metadata": {},
     "output_type": "execute_result"
    }
   ],
   "source": [
    "dict1.keys()"
   ]
  },
  {
   "cell_type": "code",
   "execution_count": 58,
   "id": "fd44a407",
   "metadata": {
    "scrolled": true
   },
   "outputs": [
    {
     "data": {
      "text/plain": [
       "dict_values([[1, 3, '14-03-2020', '25-03-2020', 'Area1', 'Area6', 'Delivered', 198], [4, 1, '18-06-2020', '09-07-2020', 'Area2', 'Area4', 'Delivered', 275], [2, 3, '01-12-2020', 'Null', 'Area5', 'Area1', 'In-Transit', 200], [1, 5, '23-06-2020', '25-06-2020', 'Area1', 'Area4', 'Delivered', 314], [3, 4, '29-08-2020', '10-09-2020', 'Area5', 'Area3', 'Delivered', 275], [5, 2, '28-06-2020', 'Null', 'Area3', 'Area1', 'In-Transit', 270]])"
      ]
     },
     "execution_count": 58,
     "metadata": {},
     "output_type": "execute_result"
    }
   ],
   "source": [
    "dict1.values()"
   ]
  },
  {
   "cell_type": "code",
   "execution_count": 59,
   "id": "4b968797",
   "metadata": {},
   "outputs": [
    {
     "data": {
      "text/plain": [
       "dict_values(['Phillip', 'Omega III', 'Ramya', 'Romesh', 'John'])"
      ]
     },
     "execution_count": 59,
     "metadata": {},
     "output_type": "execute_result"
    }
   ],
   "source": [
    "dict2.values()"
   ]
  },
  {
   "cell_type": "code",
   "execution_count": 60,
   "id": "fd9165eb",
   "metadata": {},
   "outputs": [
    {
     "data": {
      "text/plain": [
       "dict_keys([1, 2, 3, 4, 5])"
      ]
     },
     "execution_count": 60,
     "metadata": {},
     "output_type": "execute_result"
    }
   ],
   "source": [
    "dict2.keys()"
   ]
  },
  {
   "cell_type": "code",
   "execution_count": 61,
   "id": "0902f47f",
   "metadata": {},
   "outputs": [
    {
     "data": {
      "text/plain": [
       "1"
      ]
     },
     "execution_count": 61,
     "metadata": {},
     "output_type": "execute_result"
    }
   ],
   "source": [
    "dict1[101][0]"
   ]
  },
  {
   "cell_type": "code",
   "execution_count": 62,
   "id": "7f1c494c",
   "metadata": {},
   "outputs": [
    {
     "data": {
      "text/plain": [
       "3"
      ]
     },
     "execution_count": 62,
     "metadata": {},
     "output_type": "execute_result"
    }
   ],
   "source": [
    "dict1[101][1]"
   ]
  },
  {
   "cell_type": "code",
   "execution_count": 63,
   "id": "23efcbb2",
   "metadata": {},
   "outputs": [
    {
     "name": "stdout",
     "output_type": "stream",
     "text": [
      "1\n",
      "3\n",
      "4\n",
      "1\n",
      "2\n",
      "3\n",
      "1\n",
      "5\n",
      "3\n",
      "4\n",
      "5\n",
      "2\n"
     ]
    }
   ],
   "source": [
    "for i in dict1.keys():\n",
    "    for j in range(0,2):\n",
    "        #if dict1[i][j]==dict2.keys():\n",
    "            print(dict1[i][j])\n",
    "    \n",
    "            "
   ]
  },
  {
   "cell_type": "code",
   "execution_count": 64,
   "id": "6edafaa6",
   "metadata": {},
   "outputs": [
    {
     "name": "stdout",
     "output_type": "stream",
     "text": [
      "Phillip\n",
      "Ramya\n",
      "Romesh\n",
      "Phillip\n",
      "Omega III\n",
      "Ramya\n",
      "Phillip\n",
      "John\n",
      "Ramya\n",
      "Romesh\n",
      "John\n",
      "Omega III\n"
     ]
    }
   ],
   "source": [
    "for i in dict1.keys():\n",
    "    for j in range(0,2):\n",
    "        #if dict1[i][j]==dict2.keys():\n",
    "        if dict1[i][j]==1:\n",
    "            dict1[i][j]='Phillip'\n",
    "        elif dict1[i][j]==2:\n",
    "            dict1[i][j]='Omega III'\n",
    "        elif dict1[i][j]==3:\n",
    "            dict1[i][j]='Ramya'\n",
    "        elif dict1[i][j]==4:\n",
    "            dict1[i][j]='Romesh'\n",
    "        elif dict1[i][j]==5:\n",
    "            dict1[i][j]='John'\n",
    "        print(dict1[i][j])\n",
    "    "
   ]
  },
  {
   "cell_type": "code",
   "execution_count": 65,
   "id": "2fc0c4bb",
   "metadata": {},
   "outputs": [
    {
     "data": {
      "text/plain": [
       "{101: ['Phillip',\n",
       "  'Ramya',\n",
       "  '14-03-2020',\n",
       "  '25-03-2020',\n",
       "  'Area1',\n",
       "  'Area6',\n",
       "  'Delivered',\n",
       "  198],\n",
       " 102: ['Romesh',\n",
       "  'Phillip',\n",
       "  '18-06-2020',\n",
       "  '09-07-2020',\n",
       "  'Area2',\n",
       "  'Area4',\n",
       "  'Delivered',\n",
       "  275],\n",
       " 103: ['Omega III',\n",
       "  'Ramya',\n",
       "  '01-12-2020',\n",
       "  'Null',\n",
       "  'Area5',\n",
       "  'Area1',\n",
       "  'In-Transit',\n",
       "  200],\n",
       " 104: ['Phillip',\n",
       "  'John',\n",
       "  '23-06-2020',\n",
       "  '25-06-2020',\n",
       "  'Area1',\n",
       "  'Area4',\n",
       "  'Delivered',\n",
       "  314],\n",
       " 105: ['Ramya',\n",
       "  'Romesh',\n",
       "  '29-08-2020',\n",
       "  '10-09-2020',\n",
       "  'Area5',\n",
       "  'Area3',\n",
       "  'Delivered',\n",
       "  275],\n",
       " 106: ['John',\n",
       "  'Omega III',\n",
       "  '28-06-2020',\n",
       "  'Null',\n",
       "  'Area3',\n",
       "  'Area1',\n",
       "  'In-Transit',\n",
       "  270]}"
      ]
     },
     "execution_count": 65,
     "metadata": {},
     "output_type": "execute_result"
    }
   ],
   "source": [
    "dict1"
   ]
  },
  {
   "cell_type": "markdown",
   "id": "505e00b4",
   "metadata": {},
   "source": [
    "# Q3. Write a code to replace client’s id with their respective name in shipment dictionary using a loop and dictionary comprehension\n",
    "\n"
   ]
  },
  {
   "cell_type": "code",
   "execution_count": null,
   "id": "4bde349e",
   "metadata": {},
   "outputs": [],
   "source": [
    "# using loop and dictionary comprehension"
   ]
  },
  {
   "cell_type": "markdown",
   "id": "d3503737",
   "metadata": {},
   "source": [
    "# Q4. Print all shipment details that are sent by Phillip\n",
    "\n"
   ]
  },
  {
   "cell_type": "code",
   "execution_count": 66,
   "id": "9c00fe94",
   "metadata": {},
   "outputs": [
    {
     "name": "stdout",
     "output_type": "stream",
     "text": [
      "Phillip\n",
      "Ramya\n",
      "Romesh\n",
      "Phillip\n",
      "Omega III\n",
      "Ramya\n",
      "Phillip\n",
      "John\n",
      "Ramya\n",
      "Romesh\n",
      "John\n",
      "Omega III\n"
     ]
    }
   ],
   "source": [
    "for i in dict1.keys():\n",
    "    for j in range(0,2):\n",
    "        print(dict1[i][j])"
   ]
  },
  {
   "cell_type": "code",
   "execution_count": 67,
   "id": "a6fbf2cd",
   "metadata": {},
   "outputs": [
    {
     "name": "stdout",
     "output_type": "stream",
     "text": [
      "dict_items([(101, ['Phillip', 'Ramya', '14-03-2020', '25-03-2020', 'Area1', 'Area6', 'Delivered', 198]), (102, ['Romesh', 'Phillip', '18-06-2020', '09-07-2020', 'Area2', 'Area4', 'Delivered', 275]), (103, ['Omega III', 'Ramya', '01-12-2020', 'Null', 'Area5', 'Area1', 'In-Transit', 200]), (104, ['Phillip', 'John', '23-06-2020', '25-06-2020', 'Area1', 'Area4', 'Delivered', 314]), (105, ['Ramya', 'Romesh', '29-08-2020', '10-09-2020', 'Area5', 'Area3', 'Delivered', 275]), (106, ['John', 'Omega III', '28-06-2020', 'Null', 'Area3', 'Area1', 'In-Transit', 270])])\n"
     ]
    }
   ],
   "source": [
    "print(dict1.items())"
   ]
  },
  {
   "cell_type": "code",
   "execution_count": 68,
   "id": "b4106e9d",
   "metadata": {},
   "outputs": [
    {
     "name": "stdout",
     "output_type": "stream",
     "text": [
      "['Phillip', 'Ramya', '14-03-2020', '25-03-2020', 'Area1', 'Area6', 'Delivered', 198]\n",
      "['Phillip', 'John', '23-06-2020', '25-06-2020', 'Area1', 'Area4', 'Delivered', 314]\n"
     ]
    }
   ],
   "source": [
    "for x in dict1.keys():\n",
    "    if dict1[x][0]=='Phillip':\n",
    "        print(dict1[x])"
   ]
  },
  {
   "cell_type": "markdown",
   "id": "6febd5af",
   "metadata": {},
   "source": [
    "# Q5. Print all shipment details that are received by Ramya\n",
    "\n"
   ]
  },
  {
   "cell_type": "code",
   "execution_count": 69,
   "id": "bf838ba2",
   "metadata": {},
   "outputs": [
    {
     "name": "stdout",
     "output_type": "stream",
     "text": [
      "['Phillip', 'Ramya', '14-03-2020', '25-03-2020', 'Area1', 'Area6', 'Delivered', 198]\n",
      "['Omega III', 'Ramya', '01-12-2020', 'Null', 'Area5', 'Area1', 'In-Transit', 200]\n"
     ]
    }
   ],
   "source": [
    "for y in dict1.keys():\n",
    "    if dict1[y][1]=='Ramya':\n",
    "        print(dict1[y])"
   ]
  },
  {
   "cell_type": "markdown",
   "id": "11c64b8e",
   "metadata": {},
   "source": [
    "# Q6. Print all shipments which are in 'In-Transit' status\n",
    "\n"
   ]
  },
  {
   "cell_type": "code",
   "execution_count": 70,
   "id": "ad1163e9",
   "metadata": {},
   "outputs": [
    {
     "name": "stdout",
     "output_type": "stream",
     "text": [
      "['Omega III', 'Ramya', '01-12-2020', 'Null', 'Area5', 'Area1', 'In-Transit', 200]\n",
      "['John', 'Omega III', '28-06-2020', 'Null', 'Area3', 'Area1', 'In-Transit', 270]\n"
     ]
    }
   ],
   "source": [
    "for z in dict1.keys():\n",
    "    if dict1[z][6]==\"In-Transit\":\n",
    "        print(dict1[z])"
   ]
  },
  {
   "cell_type": "markdown",
   "id": "931fcec0",
   "metadata": {},
   "source": [
    "# Q7. Print all shipments which are delivered within 7 days of courier Start date\n",
    "\n"
   ]
  },
  {
   "cell_type": "code",
   "execution_count": 71,
   "id": "04b629a0",
   "metadata": {},
   "outputs": [
    {
     "ename": "TypeError",
     "evalue": "unsupported operand type(s) for -: 'str' and 'str'",
     "output_type": "error",
     "traceback": [
      "\u001b[1;31m---------------------------------------------------------------------------\u001b[0m",
      "\u001b[1;31mTypeError\u001b[0m                                 Traceback (most recent call last)",
      "\u001b[1;32mC:\\Users\\DIVYAN~1\\AppData\\Local\\Temp/ipykernel_17068/3101915236.py\u001b[0m in \u001b[0;36m<module>\u001b[1;34m\u001b[0m\n\u001b[1;32m----> 1\u001b[1;33m \u001b[0ma\u001b[0m\u001b[1;33m=\u001b[0m\u001b[1;34m\"24-04-2022\"\u001b[0m\u001b[1;33m-\u001b[0m\u001b[1;34m\"18-04-2022\"\u001b[0m\u001b[1;33m\u001b[0m\u001b[1;33m\u001b[0m\u001b[0m\n\u001b[0m\u001b[0;32m      2\u001b[0m \u001b[0ma\u001b[0m\u001b[1;33m\u001b[0m\u001b[1;33m\u001b[0m\u001b[0m\n",
      "\u001b[1;31mTypeError\u001b[0m: unsupported operand type(s) for -: 'str' and 'str'"
     ]
    }
   ],
   "source": [
    "a=\"24-04-2022\"-\"18-04-2022\"\n",
    "a"
   ]
  },
  {
   "cell_type": "markdown",
   "id": "5afe1dbd",
   "metadata": {},
   "source": [
    "# Q8. Print all shipments which are delivered after 15 days of courier start date or not yet been delivered.\n",
    "\n"
   ]
  },
  {
   "cell_type": "code",
   "execution_count": null,
   "id": "a4dd263e",
   "metadata": {},
   "outputs": [],
   "source": []
  },
  {
   "cell_type": "markdown",
   "id": "eb8dc063",
   "metadata": {},
   "source": [
    "# Q 9. Write a function find_all_routes to display all possible routes from senders location to receivers location given in the dictionary for each shipment.¶\n"
   ]
  },
  {
   "cell_type": "code",
   "execution_count": null,
   "id": "3e6a3e2d",
   "metadata": {},
   "outputs": [],
   "source": []
  }
 ],
 "metadata": {
  "kernelspec": {
   "display_name": "Python 3 (ipykernel)",
   "language": "python",
   "name": "python3"
  },
  "language_info": {
   "codemirror_mode": {
    "name": "ipython",
    "version": 3
   },
   "file_extension": ".py",
   "mimetype": "text/x-python",
   "name": "python",
   "nbconvert_exporter": "python",
   "pygments_lexer": "ipython3",
   "version": "3.9.7"
  }
 },
 "nbformat": 4,
 "nbformat_minor": 5
}
